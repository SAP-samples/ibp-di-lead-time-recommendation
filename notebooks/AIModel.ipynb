{
 "cells": [
  {
   "cell_type": "code",
   "execution_count": null,
   "metadata": {
    "tags": [
     "productive"
    ]
   },
   "outputs": [],
   "source": [
    "from sklearn.model_selection import train_test_split\n",
    "from mlModules import control\n",
    "import pandas as pd\n",
    "import catboost\n",
    "import pickle\n",
    "import json"
   ]
  },
  {
   "cell_type": "code",
   "execution_count": null,
   "metadata": {
    "tags": [
     "productive"
    ]
   },
   "outputs": [],
   "source": [
    "def cutData(data_to_cut):\n",
    "    # return data_to_cut[(data_to_cut[\"LT\"] > 0) & (data_to_cut[\"LT\"] < 20)]\n",
    "    return data_to_cut"
   ]
  },
  {
   "cell_type": "code",
   "execution_count": null,
   "metadata": {
    "tags": [
     "productive"
    ]
   },
   "outputs": [],
   "source": [
    "def split(data_to_split):\n",
    "    fit, test = train_test_split(data_to_split, train_size=control.fit_test_split, random_state=42)\n",
    "    train, valid = train_test_split(fit, train_size=control.train_valid_split, random_state=42)\n",
    "    return test, train, valid"
   ]
  },
  {
   "cell_type": "code",
   "execution_count": null,
   "metadata": {
    "tags": [
     "productive"
    ]
   },
   "outputs": [],
   "source": [
    "def createModel(train_set, valid_set):\n",
    "    model = catboost.CatBoostRegressor(\n",
    "        learning_rate = control.model_params[\"learning_rate\"],\n",
    "        iterations = control.model_params[\"iterations\"],\n",
    "        early_stopping_rounds = control.model_params[\"early_stopping_rounds\"],\n",
    "        depth = control.model_params[\"depth\"]\n",
    "    )\n",
    "    model.fit(\n",
    "        train_set[control.x],\n",
    "        train_set[control.y], \n",
    "        cat_features = control.categorical, \n",
    "        verbose=50, \n",
    "        eval_set = (valid_set[control.x], valid_set[control.y])\n",
    "    )\n",
    "    return model"
   ]
  },
  {
   "cell_type": "code",
   "execution_count": null,
   "metadata": {
    "tags": [
     "productive"
    ]
   },
   "outputs": [],
   "source": [
    "def createMetrics(model_to_use):\n",
    "    vrmse = model_to_use.get_best_score()['validation']['RMSE']\n",
    "    lrmse = model_to_use.get_best_score()['learn']['RMSE']\n",
    "    return vrmse, lrmse"
   ]
  },
  {
   "cell_type": "code",
   "execution_count": null,
   "metadata": {
    "tags": [
     "productive"
    ]
   },
   "outputs": [],
   "source": [
    "def createMetadata(data_to_use):\n",
    "    metadata = data_to_use.groupby(['LOCID', 'LOCTO', 'PRDID']).mean().reset_index()\n",
    "    metadata = metadata.drop(['MONTH', 'WEEKDAY', 'WEEKNUMBER', \"LT\", \"IDATETIME\"], axis = 1)\n",
    "    return metadata"
   ]
  },
  {
   "cell_type": "code",
   "execution_count": null,
   "metadata": {
    "tags": [
     "productive"
    ]
   },
   "outputs": [],
   "source": [
    "def serializeAndOutput(lrmse, vrmse, model, metadata):\n",
    "    metrics = str(json.dumps({\"Learn RMSE\" : str(lrmse), \"Validation RMSE\" : str(vrmse)}))\n",
    "    model_blob = pickle.dumps(model)\n",
    "    metadata_blob = pickle.dumps(metadata)\n",
    "    api.send(\"out\", metrics)\n",
    "    api.send(\"modelOut\", model_blob)\n",
    "    api.send(\"testOut\", metadata_blob)"
   ]
  },
  {
   "cell_type": "code",
   "execution_count": null,
   "metadata": {
    "tags": [
     "productive"
    ]
   },
   "outputs": [],
   "source": [
    "def recieve(data):\n",
    "    global dataframe\n",
    "    dataframe = pd.read_json(data)\n",
    "    cat = {key: \"str\" for key in control.categorical}\n",
    "    dataframe = dataframe.astype(cat)\n",
    "    print(dataframe.head())\n",
    "    processed_data = cutData(dataframe)\n",
    "    test, train, valid = split(processed_data)\n",
    "    model = createModel(train, valid)\n",
    "    vrmse, lrmse = createMetrics(model)\n",
    "    metadata = createMetadata(processed_data)\n",
    "    serializeAndOutput(lrmse, vrmse, model, metadata)\n",
    "    \n",
    "api.set_port_callback('in', recieve)"
   ]
  }
 ],
 "metadata": {
  "celltoolbar": "Tags",
  "createdAt": "2021-10-04T18:18:38Z",
  "createdBy": "diet",
  "description": "",
  "kernelspec": {
   "display_name": "Python 3",
   "language": "python",
   "name": "python3"
  },
  "language_info": {
   "codemirror_mode": {
    "name": "ipython",
    "version": 3
   },
   "file_extension": ".py",
   "mimetype": "text/x-python",
   "name": "python",
   "nbconvert_exporter": "python",
   "pygments_lexer": "ipython3",
   "version": "3.7.3"
  },
  "modifiedAt": "2021-10-04T18:18:38Z",
  "modifiedBy": "diet",
  "name": "AIModel",
  "scenarioId": "4350cfe4-c435-43a6-b215-96a2029c26fc"
 },
 "nbformat": 4,
 "nbformat_minor": 4
}
