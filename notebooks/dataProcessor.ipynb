{
 "cells": [
  {
   "cell_type": "code",
   "execution_count": null,
   "metadata": {
    "tags": [
     "productive"
    ]
   },
   "outputs": [],
   "source": [
    "import pandas as pd\n",
    "from mlModules import preprocess\n",
    "from mlModules import visual\n",
    "from mlModules import control"
   ]
  },
  {
   "cell_type": "code",
   "execution_count": null,
   "metadata": {
    "tags": [
     "productive"
    ]
   },
   "outputs": [],
   "source": [
    "def pre(df):\n",
    "    #df = df.drop(control.drop, axis=1)\n",
    "    cat = {key: \"str\" for key in control.categorical}\n",
    "    df = df.astype(cat)\n",
    "    df = preprocess.preprocess_erp_lt_matdoc(df, control.datetime)\n",
    "    df = preprocess.add_time_columns_date(df, \"IDATETIME\", control.time_cols)\n",
    "    return df\n",
    "\n",
    "def on_receive(data):\n",
    "    global dataframe\n",
    "    dataframe = pd.read_json(data)\n",
    "    dataframe = pre(dataframe)\n",
    "    api.send(\"out\", str(dataframe.to_json()))\n",
    "    \n",
    "api.set_port_callback(\"in\", on_receive)"
   ]
  },
  {
   "cell_type": "code",
   "execution_count": null,
   "metadata": {},
   "outputs": [],
   "source": [
    "visual.plot_lead_times(dataframe,xmax=0.5, histplot_stat='probability', plot_title='Lead time probability (in data)')"
   ]
  }
 ],
 "metadata": {
  "description": "",
  "kernelspec": {
   "display_name": "Python 3",
   "language": "python",
   "name": "python3"
  },
  "language_info": {
   "codemirror_mode": {
    "name": "ipython",
    "version": 3
   },
   "file_extension": ".py",
   "mimetype": "text/x-python",
   "name": "python",
   "nbconvert_exporter": "python",
   "pygments_lexer": "ipython3",
   "version": "3.7.3"
  },
  "modifiedAt": "2021-09-30T23:43:35Z",
  "modifiedBy": "diet",
  "name": "dataProcessor",
  "scenarioId": "4350cfe4-c435-43a6-b215-96a2029c26fc"
 },
 "nbformat": 4,
 "nbformat_minor": 4
}
