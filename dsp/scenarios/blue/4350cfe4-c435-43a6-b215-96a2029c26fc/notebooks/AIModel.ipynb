{
 "cells": [
  {
   "cell_type": "code",
   "execution_count": 1,
   "metadata": {
    "tags": [
     "productive"
    ]
   },
   "outputs": [
    {
     "ename": "ModuleNotFoundError",
     "evalue": "No module named 'sklearn'",
     "output_type": "error",
     "traceback": [
      "\u001b[0;31m---------------------------------------------------------------------------\u001b[0m",
      "\u001b[0;31mModuleNotFoundError\u001b[0m                       Traceback (most recent call last)",
      "\u001b[0;32m<ipython-input-1-d7c1fb5388a1>\u001b[0m in \u001b[0;36m<module>\u001b[0;34m\u001b[0m\n\u001b[0;32m----> 1\u001b[0;31m \u001b[0;32mfrom\u001b[0m \u001b[0msklearn\u001b[0m\u001b[0;34m.\u001b[0m\u001b[0mmodel_selection\u001b[0m \u001b[0;32mimport\u001b[0m \u001b[0mtrain_test_split\u001b[0m\u001b[0;34m\u001b[0m\u001b[0;34m\u001b[0m\u001b[0m\n\u001b[0m\u001b[1;32m      2\u001b[0m \u001b[0;32mfrom\u001b[0m \u001b[0mmlModules\u001b[0m \u001b[0;32mimport\u001b[0m \u001b[0mcontrol\u001b[0m\u001b[0;34m\u001b[0m\u001b[0;34m\u001b[0m\u001b[0m\n\u001b[1;32m      3\u001b[0m \u001b[0;32mimport\u001b[0m \u001b[0mpandas\u001b[0m \u001b[0;32mas\u001b[0m \u001b[0mpd\u001b[0m\u001b[0;34m\u001b[0m\u001b[0;34m\u001b[0m\u001b[0m\n\u001b[1;32m      4\u001b[0m \u001b[0;32mimport\u001b[0m \u001b[0mcatboost\u001b[0m\u001b[0;34m\u001b[0m\u001b[0;34m\u001b[0m\u001b[0m\n\u001b[1;32m      5\u001b[0m \u001b[0;32mimport\u001b[0m \u001b[0mpickle\u001b[0m\u001b[0;34m\u001b[0m\u001b[0;34m\u001b[0m\u001b[0m\n",
      "\u001b[0;31mModuleNotFoundError\u001b[0m: No module named 'sklearn'"
     ]
    }
   ],
   "source": [
    "from sklearn.model_selection import train_test_split\n",
    "from mlModules import control\n",
    "import pandas as pd\n",
    "import catboost\n",
    "import pickle\n",
    "import json"
   ]
  },
  {
   "cell_type": "code",
   "execution_count": 2,
   "metadata": {
    "tags": [
     "productive"
    ]
   },
   "outputs": [],
   "source": [
    "def cutData(data_to_cut):\n",
    "    return data_to_cut[(data_to_cut[\"LT\"] > 0) & (data_to_cut[\"LT\"] < 20)]\n",
    "    #return data_to_cut"
   ]
  },
  {
   "cell_type": "code",
   "execution_count": 3,
   "metadata": {
    "tags": [
     "productive"
    ]
   },
   "outputs": [],
   "source": [
    "def split(data_to_split):\n",
    "    fit, test = train_test_split(data_to_split, train_size=control.fit_test_split, random_state=42)\n",
    "    train, valid = train_test_split(fit, train_size=control.train_valid_split, random_state=42)\n",
    "    return test, train, valid"
   ]
  },
  {
   "cell_type": "code",
   "execution_count": 4,
   "metadata": {
    "tags": [
     "productive"
    ]
   },
   "outputs": [],
   "source": [
    "def createModel(train_set, valid_set):\n",
    "    model = catboost.CatBoostRegressor(\n",
    "        learning_rate = control.model_params[\"learning_rate\"],\n",
    "        iterations = control.model_params[\"iterations\"],\n",
    "        early_stopping_rounds = control.model_params[\"early_stopping_rounds\"],\n",
    "        depth = control.model_params[\"depth\"]\n",
    "    )\n",
    "    model.fit(\n",
    "        train_set[control.x],\n",
    "        train_set[control.y], \n",
    "        cat_features = control.categorical, \n",
    "        verbose=50, \n",
    "        eval_set = (valid_set[control.x], valid_set[control.y])\n",
    "    )\n",
    "    return model"
   ]
  },
  {
   "cell_type": "code",
   "execution_count": 5,
   "metadata": {
    "tags": [
     "productive"
    ]
   },
   "outputs": [],
   "source": [
    "def createMetrics(model_to_use):\n",
    "    vrmse = model_to_use.get_best_score()['validation']['RMSE']\n",
    "    lrmse = model_to_use.get_best_score()['learn']['RMSE']\n",
    "    return vrmse, lrmse"
   ]
  },
  {
   "cell_type": "code",
   "execution_count": 6,
   "metadata": {
    "tags": [
     "productive"
    ]
   },
   "outputs": [],
   "source": [
    "def createMetadata(data_to_use):\n",
    "    metadata = data_to_use.groupby(['LOCID', 'LOCTO', 'PRDID']).mean().reset_index()\n",
    "    metadata = metadata.drop(['MONTH', 'WEEKDAY', 'WEEKNUMBER', \"LT\", \"IDATETIME\"], axis = 1)\n",
    "    return metadata"
   ]
  },
  {
   "cell_type": "code",
   "execution_count": 7,
   "metadata": {
    "tags": [
     "productive"
    ]
   },
   "outputs": [],
   "source": [
    "def serializeAndOutput(lrmse, vrmse, model, metadata):\n",
    "    metrics = str(json.dumps({\"Learn RMSE\" : str(lrmse), \"Validation RMSE\" : str(vrmse)}))\n",
    "    model_blob = pickle.dumps(model)\n",
    "    metadata_blob = pickle.dumps(metadata)\n",
    "    api.send(\"out\", metrics)\n",
    "    api.send(\"modelOut\", model_blob)\n",
    "    api.send(\"testOut\", metadata_blob)"
   ]
  },
  {
   "cell_type": "code",
   "execution_count": 8,
   "metadata": {
    "tags": [
     "productive"
    ]
   },
   "outputs": [
    {
     "name": "stdout",
     "output_type": "stream",
     "text": [
      "           ROTIME   QTY        LT    PRDID LOCTO LOCID      IDATETIME  \\\n",
      "0  20181015002218  1728  0.028241  1000389  1034  1001  1539560498000   \n",
      "1  20181015002220  1728  0.027512  1000389  1034  1001  1539560563000   \n",
      "2  20181015002219  1728  0.025081  1000389  1034  1001  1539560772000   \n",
      "3  20181015002216  1728  0.024259  1000389  1034  1001  1539560840000   \n",
      "4  20181015002218  1728  0.022801  1000389  1034  1001  1539560968000   \n",
      "\n",
      "   WEEKDAY  WEEKNUMBER  MONTH  \n",
      "0        6          41     10  \n",
      "1        6          41     10  \n",
      "2        6          41     10  \n",
      "3        6          41     10  \n",
      "4        6          41     10  \n",
      "0:\tlearn: 0.6439081\ttest: 0.6466806\tbest: 0.6466806 (0)\ttotal: 225ms\tremaining: 3m 44s\n",
      "50:\tlearn: 0.5518522\ttest: 0.5659085\tbest: 0.5659085 (50)\ttotal: 5.28s\tremaining: 1m 38s\n",
      "100:\tlearn: 0.5325071\ttest: 0.5489516\tbest: 0.5489516 (100)\ttotal: 10.6s\tremaining: 1m 34s\n",
      "150:\tlearn: 0.5270910\ttest: 0.5439126\tbest: 0.5439126 (150)\ttotal: 16.1s\tremaining: 1m 30s\n",
      "200:\tlearn: 0.5251645\ttest: 0.5422148\tbest: 0.5422148 (200)\ttotal: 20.2s\tremaining: 1m 20s\n",
      "250:\tlearn: 0.5238029\ttest: 0.5410530\tbest: 0.5410530 (250)\ttotal: 23.9s\tremaining: 1m 11s\n",
      "300:\tlearn: 0.5228869\ttest: 0.5405319\tbest: 0.5405319 (300)\ttotal: 27.5s\tremaining: 1m 3s\n",
      "350:\tlearn: 0.5222457\ttest: 0.5401508\tbest: 0.5401508 (350)\ttotal: 30.6s\tremaining: 56.7s\n",
      "400:\tlearn: 0.5218190\ttest: 0.5399485\tbest: 0.5399485 (400)\ttotal: 33.6s\tremaining: 50.2s\n",
      "450:\tlearn: 0.5213864\ttest: 0.5397514\tbest: 0.5397492 (449)\ttotal: 36.6s\tremaining: 44.6s\n",
      "500:\tlearn: 0.5210136\ttest: 0.5395820\tbest: 0.5395820 (500)\ttotal: 39.8s\tremaining: 39.6s\n",
      "550:\tlearn: 0.5205917\ttest: 0.5393263\tbest: 0.5393263 (550)\ttotal: 44s\tremaining: 35.8s\n",
      "600:\tlearn: 0.5201815\ttest: 0.5390551\tbest: 0.5390551 (600)\ttotal: 48.4s\tremaining: 32.1s\n",
      "650:\tlearn: 0.5198409\ttest: 0.5388785\tbest: 0.5388662 (648)\ttotal: 54.4s\tremaining: 29.2s\n",
      "700:\tlearn: 0.5195216\ttest: 0.5386788\tbest: 0.5386737 (699)\ttotal: 1m 1s\tremaining: 26.2s\n",
      "750:\tlearn: 0.5192983\ttest: 0.5385841\tbest: 0.5385841 (750)\ttotal: 1m 8s\tremaining: 22.8s\n"
     ]
    }
   ],
   "source": [
    "def recieve(data):\n",
    "    global dataframe\n",
    "    dataframe = pd.read_json(data)\n",
    "    cat = {key: \"str\" for key in control.categorical}\n",
    "    dataframe = dataframe.astype(cat)\n",
    "    print(dataframe.head())\n",
    "    processed_data = cutData(dataframe)\n",
    "    test, train, valid = split(processed_data)\n",
    "    model = createModel(train, valid)\n",
    "    vrmse, lrmse = createMetrics(model)\n",
    "    metadata = createMetadata(processed_data)\n",
    "    serializeAndOutput(lrmse, vrmse, model, metadata)\n",
    "    \n",
    "api.set_port_callback('in', recieve)"
   ]
  },
  {
   "cell_type": "code",
   "execution_count": null,
   "metadata": {},
   "outputs": [],
   "source": []
  }
 ],
 "metadata": {
  "celltoolbar": "Tags",
  "createdAt": "2021-10-04T18:18:38Z",
  "createdBy": "diet",
  "description": "",
  "kernelspec": {
   "display_name": "Python 3",
   "language": "python",
   "name": "python3"
  },
  "language_info": {
   "codemirror_mode": {
    "name": "ipython",
    "version": 3
   },
   "file_extension": ".py",
   "mimetype": "text/x-python",
   "name": "python",
   "nbconvert_exporter": "python",
   "pygments_lexer": "ipython3",
   "version": "3.7.3"
  },
  "modifiedAt": "2021-10-04T18:18:38Z",
  "modifiedBy": "diet",
  "name": "AIModel",
  "scenarioId": "4350cfe4-c435-43a6-b215-96a2029c26fc"
 },
 "nbformat": 4,
 "nbformat_minor": 4
}
