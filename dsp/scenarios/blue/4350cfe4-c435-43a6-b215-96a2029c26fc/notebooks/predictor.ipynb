{
 "cells": [
  {
   "cell_type": "code",
   "execution_count": null,
   "metadata": {
    "tags": [
     "productive"
    ]
   },
   "outputs": [],
   "source": [
    "import catboost\n",
    "import pandas as pd\n",
    "from mlModules import control\n",
    "import pickle"
   ]
  },
  {
   "cell_type": "code",
   "execution_count": null,
   "metadata": {
    "tags": [
     "productive"
    ]
   },
   "outputs": [],
   "source": [
    "def predict(days, model, metadata):\n",
    "    results = pd.DataFrame()\n",
    "    tomorrow = pd.to_datetime(\"today\") + pd.DateOffset(days=1)\n",
    "    for day in pd.date_range(start = tomorrow, periods = days, normalize = True):\n",
    "        x = metadata.copy()\n",
    "        x['DAY'] = day\n",
    "        x['WEEKNUMBER'] = day.week\n",
    "        x['WEEKDAY'] = day.weekday()\n",
    "        x['MONTH'] = day.month\n",
    "        x['PREDICTEDLEADTIMES'] = model.predict(x).clip(min=0)\n",
    "        results = results.append(x, ignore_index=True)\n",
    "    resBlob = pickle.dumps(results)\n",
    "    api.send(\"prediction\", resBlob)"
   ]
  },
  {
   "cell_type": "code",
   "execution_count": null,
   "metadata": {
    "tags": [
     "productive"
    ]
   },
   "outputs": [],
   "source": [
    "def onInput(days, metadataBlob, modelBlob):\n",
    "    global model, predDays, metadata\n",
    "    model = pickle.loads(modelBlob)\n",
    "    metadata = pickle.loads(metadataBlob)\n",
    "    predDays = int(days)\n",
    "    print(model.is_fitted())\n",
    "    predict(predDays, model, metadata)\n",
    "api.set_port_callback([\"days\", \"metadata\", \"model\"], onInput)"
   ]
  }
 ],
 "metadata": {
  "celltoolbar": "Tags",
  "createdAt": "2021-10-04T18:22:40Z",
  "createdBy": "diet",
  "description": "",
  "kernelspec": {
   "display_name": "Python 3",
   "language": "python",
   "name": "python3"
  },
  "language_info": {
   "codemirror_mode": {
    "name": "ipython",
    "version": 3
   },
   "file_extension": ".py",
   "mimetype": "text/x-python",
   "name": "python",
   "nbconvert_exporter": "python",
   "pygments_lexer": "ipython3",
   "version": "3.7.3"
  },
  "modifiedAt": "2021-10-04T18:22:40Z",
  "modifiedBy": "diet",
  "name": "predictor",
  "scenarioId": "4350cfe4-c435-43a6-b215-96a2029c26fc"
 },
 "nbformat": 4,
 "nbformat_minor": 4
}
